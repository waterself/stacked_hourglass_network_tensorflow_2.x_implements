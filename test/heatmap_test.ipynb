{
 "cells": [
  {
   "cell_type": "code",
   "execution_count": 6,
   "metadata": {},
   "outputs": [
    {
     "name": "stdout",
     "output_type": "stream",
     "text": [
      "061185289.jpg\n",
      "0 255\n",
      "0.0 255.0\n"
     ]
    }
   ],
   "source": [
    "import numpy as np\n",
    "import json\n",
    "import tensorflow as tf\n",
    "\n",
    "with open('../src/dataset/MPII/mpii_human_pose_v1_u12_1.json', 'r') as json_file:\n",
    "    data = json.load(json_file)\n",
    "\n",
    "search_idx = 10\n",
    "keypoints = data[search_idx]['joint_self']\n",
    "print(data[search_idx]['img_paths'])\n",
    "image = tf.io.read_file(filename='./061185289.jpg')\n",
    "image = tf.io.decode_image(image, channels=3)\n",
    "image_height, image_width, image_channel = image.shape[:3]\n",
    "target_width = 256  # Replace with the actual target width\n",
    "target_height = 256  # Replace with the actual target height\n",
    "num_keypoints = 14  # Replace with the actual number of keypoints\n",
    "variance = 3.0  # You can adjust this based on the scale of your dataset\n",
    "\n",
    "# image_np = image.numpy()\n",
    "# method_test = tf.image.resize_with_pad(image, target_height, target_width, tf.image.ResizeMethod.BILINEAR).numpy()\n",
    "\n",
    "import numpy as np\n",
    "# Function to generate a single Gaussian heatmap for a keypoint\n",
    "def generate_heatmap(keypoint_x, keypoint_y, image_width, image_height, peak_value = 1.0, variance = 1.0):\n",
    "\n",
    "    # target_x = keypoint_x // target_width\n",
    "    # target_y = keypoint_y // target_height\n",
    "\n",
    "    x = np.arange(0, image_width, 1)\n",
    "    y = np.arange(0, image_height, 1)\n",
    "    xv, yv = np.meshgrid(x, y)\n",
    "\n",
    "    # Calculate the squared distance from each pixel to the keypoint\n",
    "    distance_squared = (xv - keypoint_x)**2 + (yv - keypoint_y)**2\n",
    "\n",
    "    # Create a heatmap with zeros\n",
    "    heatmap = np.zeros((image_height, image_width),dtype=np.float32)\n",
    "\n",
    "    # Set the value at the keypoint to the peak_value\n",
    "    heatmap[int(keypoint_y), int(keypoint_x)] = peak_value\n",
    "\n",
    "    # Optionally, apply Gaussian smoothing to the peak\n",
    "    heatmap = peak_value * np.exp(-distance_squared / (2.0 * variance ** 2))\n",
    "\n",
    "    return heatmap\n",
    "\n"
   ]
  },
  {
   "cell_type": "code",
   "execution_count": 32,
   "metadata": {},
   "outputs": [],
   "source": [
    "image_resized = tf.image.resize_with_pad(image, target_height, target_width)\n",
    "heatmaps = np.zeros((num_keypoints, image_height, image_width))\n",
    "heatmaps_resized = tf.image.resize_with_pad(heatmaps, target_height, target_width, )\n",
    "\n",
    "for i in range(num_keypoints):\n",
    "    keypoint_x, keypoint_y, visibility = keypoints[i]  # Replace with your actual keypoint data\n",
    "    if visibility > 0.5:  # You can adjust this threshold based on your dataset\n",
    "        heatmap = generate_heatmap(keypoint_x, keypoint_y, image_width, image_height, variance)\n",
    "        heatmaps[i] = heatmap\n"
   ]
  },
  {
   "cell_type": "markdown",
   "metadata": {},
   "source": []
  },
  {
   "cell_type": "code",
   "execution_count": 33,
   "metadata": {},
   "outputs": [
    {
     "name": "stdout",
     "output_type": "stream",
     "text": [
      "(720, 1280, 14)\n"
     ]
    }
   ],
   "source": [
    "ground_truth_heatmap = np.stack(heatmaps, axis=-1)\n",
    "print(ground_truth_heatmap.shape)"
   ]
  },
  {
   "cell_type": "code",
   "execution_count": 53,
   "metadata": {},
   "outputs": [
    {
     "data": {
      "text/plain": [
       "<matplotlib.image.AxesImage at 0x190a1586a30>"
      ]
     },
     "execution_count": 53,
     "metadata": {},
     "output_type": "execute_result"
    },
    {
     "data": {
      "image/png": "[encoded data removed]",
      "text/plain": [
       "<Figure size 640x480 with 1 Axes>"
      ]
     },
     "metadata": {},
     "output_type": "display_data"
    }
   ],
   "source": [
    "import matplotlib.pyplot as plt\n",
    "vis = np.zeros((target_height, target_width))\n",
    "\n",
    "for idx in range(ground_truth_heatmap.shape[-1]):\n",
    "    vis += ground_truth_heatmap[:,:,idx]\n",
    "\n",
    "plt.imshow(vis[100:500, 400:800])"
   ]
  }
 ],
 "metadata": {
  "kernelspec": {
   "display_name": "movinet",
   "language": "python",
   "name": "python3"
  },
  "language_info": {
   "codemirror_mode": {
    "name": "ipython",
    "version": 3
   },
   "file_extension": ".py",
   "mimetype": "text/x-python",
   "name": "python",
   "nbconvert_exporter": "python",
   "pygments_lexer": "ipython3",
   "version": "3.9.18"
  },
  "orig_nbformat": 4
 },
 "nbformat": 4,
 "nbformat_minor": 2
}
