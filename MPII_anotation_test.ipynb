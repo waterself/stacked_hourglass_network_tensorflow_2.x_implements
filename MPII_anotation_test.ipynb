{
 "cells": [
  {
   "cell_type": "code",
   "execution_count": 1,
   "metadata": {},
   "outputs": [],
   "source": [
    "import numpy as np\n",
    "#import matplotlib.pyplot as plt\n",
    "import scipy.io\n",
    "\n",
    "mat_file_name = 'D:/MPII-dataset/mpii_human_pose_v1_u12_2/mpii_human_pose_v1_u12_1.mat'\n",
    "mat_file = scipy.io.loadmat(mat_file_name)"
   ]
  },
  {
   "cell_type": "code",
   "execution_count": 2,
   "metadata": {},
   "outputs": [
    {
     "name": "stdout",
     "output_type": "stream",
     "text": [
      "<class 'dict'>\n",
      "__header__\n",
      "__version__\n",
      "__globals__\n",
      "RELEASE\n"
     ]
    }
   ],
   "source": [
    "print(type(mat_file))\n",
    "\n",
    "for i in mat_file:\n",
    "    print(i)"
   ]
  },
  {
   "cell_type": "code",
   "execution_count": 3,
   "metadata": {},
   "outputs": [
    {
     "name": "stdout",
     "output_type": "stream",
     "text": [
      "type:<class 'numpy.void'>, shape:()\n",
      "[('annolist', 'O'), ('img_train', 'O'), ('version', 'O'), ('single_person', 'O'), ('act', 'O'), ('video_list', 'O')]\n"
     ]
    }
   ],
   "source": [
    "mat_release = mat_file['RELEASE'][0,0]\n",
    "print(f\"type:{type(mat_release)}, shape:{mat_release.shape}\")\n",
    "print(mat_release.dtype)"
   ]
  },
  {
   "cell_type": "code",
   "execution_count": 52,
   "metadata": {},
   "outputs": [
    {
     "name": "stdout",
     "output_type": "stream",
     "text": [
      "037454012.jpg\n"
     ]
    },
    {
     "ename": "IndexError",
     "evalue": "index 1 is out of bounds for axis 0 with size 1",
     "output_type": "error",
     "traceback": [
      "\u001b[1;31m---------------------------------------------------------------------------\u001b[0m",
      "\u001b[1;31mIndexError\u001b[0m                                Traceback (most recent call last)",
      "Cell \u001b[1;32mIn[52], line 18\u001b[0m\n\u001b[0;32m     15\u001b[0m     \u001b[38;5;28;01mbreak\u001b[39;00m\n\u001b[0;32m     16\u001b[0m \u001b[38;5;66;03m# print(annotation.shape)\u001b[39;00m\n\u001b[0;32m     17\u001b[0m \u001b[38;5;66;03m# print(annolist[0][0]['annorect']['objpos'])\u001b[39;00m\n\u001b[1;32m---> 18\u001b[0m \u001b[38;5;28mprint\u001b[39m(\u001b[43mannotation\u001b[49m\u001b[43m[\u001b[49m\u001b[38;5;241;43m0\u001b[39;49m\u001b[43m]\u001b[49m\u001b[43m[\u001b[49m\u001b[38;5;241;43m1\u001b[39;49m\u001b[43m]\u001b[49m\u001b[43m[\u001b[49m\u001b[38;5;241;43m0\u001b[39;49m\u001b[43m]\u001b[49m\u001b[43m[\u001b[49m\u001b[38;5;241;43m0\u001b[39;49m\u001b[43m]\u001b[49m\u001b[43m[\u001b[49m\u001b[38;5;241;43m1\u001b[39;49m\u001b[43m]\u001b[49m\u001b[43m[\u001b[49m\u001b[38;5;241;43m0\u001b[39;49m\u001b[43m]\u001b[49m\u001b[43m[\u001b[49m\u001b[38;5;241;43m0\u001b[39;49m\u001b[43m]\u001b[49m\u001b[43m[\u001b[49m\u001b[38;5;241;43m0\u001b[39;49m\u001b[43m]\u001b[49m\u001b[43m[\u001b[49m\u001b[38;5;241;43m1\u001b[39;49m\u001b[43m]\u001b[49m)\n\u001b[0;32m     19\u001b[0m \u001b[38;5;66;03m# print(annolist[0].shape)\u001b[39;00m\n\u001b[0;32m     20\u001b[0m \u001b[38;5;66;03m# print(len(annolist))\u001b[39;00m\n",
      "\u001b[1;31mIndexError\u001b[0m: index 1 is out of bounds for axis 0 with size 1"
     ]
    }
   ],
   "source": [
    "from pyparsing import anyOpenTag\n",
    "\n",
    "\n",
    "annolist = mat_release['annolist']\n",
    "img_train = mat_release['img_train']\n",
    "# img_test = [ data for data in annolist]\n",
    "act = mat_release['act']\n",
    "single_person = mat_release['single_person']\n",
    "video_list = mat_release['video_list']\n",
    "version = mat_release['version']\n",
    "# print(str(annolist[0][0]['image']['name'][0][0][0]))\n",
    "annotation = annolist[0]\n",
    "for i, ann in enumerate(annotation):\n",
    "    print(ann['image']['name'][0][0][0])\n",
    "    break\n",
    "# print(annotation.shape)\n",
    "# print(annolist[0][0]['annorect']['objpos'])\n",
    "print(annotation[0][1][0][0][1][0][0][0][1])\n",
    "# print(annolist[0].shape)\n",
    "# print(len(annolist))\n"
   ]
  },
  {
   "cell_type": "code",
   "execution_count": null,
   "metadata": {},
   "outputs": [],
   "source": []
  }
 ],
 "metadata": {
  "kernelspec": {
   "display_name": "tf27",
   "language": "python",
   "name": "python3"
  },
  "language_info": {
   "codemirror_mode": {
    "name": "ipython",
    "version": 3
   },
   "file_extension": ".py",
   "mimetype": "text/x-python",
   "name": "python",
   "nbconvert_exporter": "python",
   "pygments_lexer": "ipython3",
   "version": "3.9.18"
  },
  "orig_nbformat": 4
 },
 "nbformat": 4,
 "nbformat_minor": 2
}
