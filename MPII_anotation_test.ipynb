{
 "cells": [
  {
   "cell_type": "code",
   "execution_count": 2,
   "metadata": {},
   "outputs": [],
   "source": [
    "import numpy as np\n",
    "#import matplotlib.pyplot as plt\n",
    "import scipy.io\n",
    "\n",
    "mat_file_name = 'D:/MPII-dataset/mpii_human_pose_v1_u12_2/mpii_human_pose_v1_u12_1.mat'\n",
    "mat_file = scipy.io.loadmat(mat_file_name)"
   ]
  },
  {
   "cell_type": "code",
   "execution_count": 3,
   "metadata": {},
   "outputs": [
    {
     "name": "stdout",
     "output_type": "stream",
     "text": [
      "<class 'dict'>\n",
      "__header__\n",
      "__version__\n",
      "__globals__\n",
      "RELEASE\n"
     ]
    }
   ],
   "source": [
    "print(type(mat_file))\n",
    "\n",
    "for i in mat_file:\n",
    "    print(i)"
   ]
  },
  {
   "cell_type": "code",
   "execution_count": 4,
   "metadata": {},
   "outputs": [
    {
     "name": "stdout",
     "output_type": "stream",
     "text": [
      "type:<class 'numpy.void'>, shape:()\n",
      "[('annolist', 'O'), ('img_train', 'O'), ('version', 'O'), ('single_person', 'O'), ('act', 'O'), ('video_list', 'O')]\n"
     ]
    }
   ],
   "source": [
    "mat_release = mat_file['RELEASE'][0,0]\n",
    "print(f\"type:{type(mat_release)}, shape:{mat_release.shape}\")\n",
    "print(mat_release.dtype)"
   ]
  },
  {
   "cell_type": "code",
   "execution_count": 8,
   "metadata": {},
   "outputs": [
    {
     "name": "stdout",
     "output_type": "stream",
     "text": [
      "037454012.jpg\n",
      "[[array([[(array([[601]], dtype=uint16), array([[380]], dtype=uint16))]],\n",
      "        dtype=[('x', 'O'), ('y', 'O')])                                  ]]\n",
      "(24987,)\n",
      "1\n"
     ]
    }
   ],
   "source": [
    "annolist = mat_release['annolist']\n",
    "img_train = mat_release['img_train']\n",
    "act = mat_release['act']\n",
    "single_person = mat_release['single_person']\n",
    "video_list = mat_release['video_list']\n",
    "version = mat_release['version']\n",
    "# print(str(annolist[0][0]['image']['name'][0][0][0]))\n",
    "annotation = annolist[0]\n",
    "for i, ann in enumerate(annotation):\n",
    "    print(ann['image']['name'][0][0][0])\n",
    "    break\n",
    "# print(annotation.shape)\n",
    "print(annolist[0][0]['annorect']['objpos'])\n",
    "print(annolist[0].shape)\n",
    "print(len(annolist))\n",
    "#print(img_train[5])\n",
    "# print(img_train[0,1])\n",
    "# print(act[0])\n",
    "# print(single_person[0])\n",
    "# print(video_list[0,1])\n",
    "# print(version[0])"
   ]
  },
  {
   "cell_type": "code",
   "execution_count": null,
   "metadata": {},
   "outputs": [],
   "source": []
  }
 ],
 "metadata": {
  "kernelspec": {
   "display_name": "tf27",
   "language": "python",
   "name": "python3"
  },
  "language_info": {
   "codemirror_mode": {
    "name": "ipython",
    "version": 3
   },
   "file_extension": ".py",
   "mimetype": "text/x-python",
   "name": "python",
   "nbconvert_exporter": "python",
   "pygments_lexer": "ipython3",
   "version": "3.9.18"
  },
  "orig_nbformat": 4
 },
 "nbformat": 4,
 "nbformat_minor": 2
}
